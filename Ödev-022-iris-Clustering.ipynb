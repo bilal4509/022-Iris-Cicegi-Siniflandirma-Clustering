{
 "cells": [
  {
   "cell_type": "markdown",
   "metadata": {},
   "source": [
    "<img src='11.jpg'>"
   ]
  },
  {
   "cell_type": "raw",
   "metadata": {},
   "source": [
    "iIris Flower Sınıflandırması, veri bilimi topluluğu arasında en popüler vaka çalışmalarından biridir\n",
    "Burada size her iris çiçeği türüyle ilgili ölçümler veriliyor ve bu verilere dayanarak iris çiçeklerini sınıflandırma görevi için bir makine öğrenme modeli eğitmeniz gerekiyor"
   ]
  },
  {
   "cell_type": "raw",
   "metadata": {},
   "source": [
    "İris çiçeğinin üç türü vardır; ölçülerine göre farklılık gösteren setosa, versicolor ve virginica. Şimdi iris çiçeklerinin türlerine göre ölçümlerine sahip olduğunuzu varsayalım ve burada göreviniz iris türlerinin ölçümlerinden öğrenip bunları sınıflandırabilen bir makine öğrenme modeli yetiştirmektir."
   ]
  },
  {
   "cell_type": "code",
   "execution_count": 1,
   "metadata": {
    "_cell_guid": "b1076dfc-b9ad-4769-8c92-a6c4dae69d19",
    "_uuid": "8f2839f25d086af736a60e9eeb907d3b93b6e0e5"
   },
   "outputs": [],
   "source": [
    "# This Python 3 environment comes with many helpful analytics libraries installed\n",
    "# It is defined by the kaggle/python Docker image: https://github.com/kaggle/docker-python\n",
    "# For example, here's several helpful packages to load\n",
    "\n",
    "import numpy as np # linear algebra\n",
    "import pandas as pd # data processing, CSV file I/O (e.g. pd.read_csv)\n",
    "\n",
    "# Input data files are available in the read-only \"../input/\" directory\n",
    "# For example, running this (by clicking run or pressing Shift+Enter) will list all files under the input directory\n",
    "\n",
    "import os\n",
    "for dirname, _, filenames in os.walk('/kaggle/input'):\n",
    "    for filename in filenames:\n",
    "        print(os.path.join(dirname, filename))\n",
    "\n",
    "# You can write up to 20GB to the current directory (/kaggle/working/) that gets preserved as output when you create a version using \"Save & Run All\" \n",
    "# You can also write temporary files to /kaggle/temp/, but they won't be saved outside of the current session"
   ]
  },
  {
   "cell_type": "code",
   "execution_count": 5,
   "metadata": {
    "execution": {
     "iopub.execute_input": "2023-11-08T21:05:04.507962Z",
     "iopub.status.busy": "2023-11-08T21:05:04.507509Z",
     "iopub.status.idle": "2023-11-08T21:05:04.514239Z",
     "shell.execute_reply": "2023-11-08T21:05:04.512863Z",
     "shell.execute_reply.started": "2023-11-08T21:05:04.507924Z"
    }
   },
   "outputs": [],
   "source": [
    "#pip install pycaret"
   ]
  },
  {
   "cell_type": "code",
   "execution_count": 12,
   "metadata": {
    "execution": {
     "iopub.execute_input": "2023-11-08T21:06:40.358516Z",
     "iopub.status.busy": "2023-11-08T21:06:40.358101Z",
     "iopub.status.idle": "2023-11-08T21:06:40.363870Z",
     "shell.execute_reply": "2023-11-08T21:06:40.362885Z",
     "shell.execute_reply.started": "2023-11-08T21:06:40.358483Z"
    }
   },
   "outputs": [],
   "source": [
    "import pandas as pd"
   ]
  },
  {
   "cell_type": "code",
   "execution_count": 6,
   "metadata": {
    "execution": {
     "iopub.execute_input": "2023-11-08T21:05:06.295921Z",
     "iopub.status.busy": "2023-11-08T21:05:06.295522Z",
     "iopub.status.idle": "2023-11-08T21:05:06.302272Z",
     "shell.execute_reply": "2023-11-08T21:05:06.300883Z",
     "shell.execute_reply.started": "2023-11-08T21:05:06.295890Z"
    }
   },
   "outputs": [],
   "source": [
    "import pandas as pd\n",
    "import matplotlib.pyplot as plt\n",
    "#pembe uyarıları kapatmak için\n",
    "import warnings\n",
    "warnings.filterwarnings('ignore')"
   ]
  },
  {
   "cell_type": "code",
   "execution_count": 13,
   "metadata": {
    "execution": {
     "iopub.execute_input": "2023-11-08T21:06:48.253851Z",
     "iopub.status.busy": "2023-11-08T21:06:48.252768Z",
     "iopub.status.idle": "2023-11-08T21:06:48.263736Z",
     "shell.execute_reply": "2023-11-08T21:06:48.262448Z",
     "shell.execute_reply.started": "2023-11-08T21:06:48.253797Z"
    }
   },
   "outputs": [],
   "source": [
    "df=pd.read_csv(\"/kaggle/input/iris-flower-dataset/IRIS.csv\")"
   ]
  },
  {
   "cell_type": "code",
   "execution_count": 15,
   "metadata": {
    "execution": {
     "iopub.execute_input": "2023-11-08T21:07:07.640487Z",
     "iopub.status.busy": "2023-11-08T21:07:07.640028Z",
     "iopub.status.idle": "2023-11-08T21:07:07.660327Z",
     "shell.execute_reply": "2023-11-08T21:07:07.658772Z",
     "shell.execute_reply.started": "2023-11-08T21:07:07.640448Z"
    }
   },
   "outputs": [
    {
     "data": {
      "text/html": [
       "<div>\n",
       "<style scoped>\n",
       "    .dataframe tbody tr th:only-of-type {\n",
       "        vertical-align: middle;\n",
       "    }\n",
       "\n",
       "    .dataframe tbody tr th {\n",
       "        vertical-align: top;\n",
       "    }\n",
       "\n",
       "    .dataframe thead th {\n",
       "        text-align: right;\n",
       "    }\n",
       "</style>\n",
       "<table border=\"1\" class=\"dataframe\">\n",
       "  <thead>\n",
       "    <tr style=\"text-align: right;\">\n",
       "      <th></th>\n",
       "      <th>sepal_length</th>\n",
       "      <th>sepal_width</th>\n",
       "      <th>petal_length</th>\n",
       "      <th>petal_width</th>\n",
       "      <th>species</th>\n",
       "    </tr>\n",
       "  </thead>\n",
       "  <tbody>\n",
       "    <tr>\n",
       "      <th>0</th>\n",
       "      <td>5.1</td>\n",
       "      <td>3.5</td>\n",
       "      <td>1.4</td>\n",
       "      <td>0.2</td>\n",
       "      <td>Iris-setosa</td>\n",
       "    </tr>\n",
       "    <tr>\n",
       "      <th>1</th>\n",
       "      <td>4.9</td>\n",
       "      <td>3.0</td>\n",
       "      <td>1.4</td>\n",
       "      <td>0.2</td>\n",
       "      <td>Iris-setosa</td>\n",
       "    </tr>\n",
       "    <tr>\n",
       "      <th>2</th>\n",
       "      <td>4.7</td>\n",
       "      <td>3.2</td>\n",
       "      <td>1.3</td>\n",
       "      <td>0.2</td>\n",
       "      <td>Iris-setosa</td>\n",
       "    </tr>\n",
       "    <tr>\n",
       "      <th>3</th>\n",
       "      <td>4.6</td>\n",
       "      <td>3.1</td>\n",
       "      <td>1.5</td>\n",
       "      <td>0.2</td>\n",
       "      <td>Iris-setosa</td>\n",
       "    </tr>\n",
       "    <tr>\n",
       "      <th>4</th>\n",
       "      <td>5.0</td>\n",
       "      <td>3.6</td>\n",
       "      <td>1.4</td>\n",
       "      <td>0.2</td>\n",
       "      <td>Iris-setosa</td>\n",
       "    </tr>\n",
       "  </tbody>\n",
       "</table>\n",
       "</div>"
      ],
      "text/plain": [
       "   sepal_length  sepal_width  petal_length  petal_width      species\n",
       "0           5.1          3.5           1.4          0.2  Iris-setosa\n",
       "1           4.9          3.0           1.4          0.2  Iris-setosa\n",
       "2           4.7          3.2           1.3          0.2  Iris-setosa\n",
       "3           4.6          3.1           1.5          0.2  Iris-setosa\n",
       "4           5.0          3.6           1.4          0.2  Iris-setosa"
      ]
     },
     "execution_count": 15,
     "metadata": {},
     "output_type": "execute_result"
    }
   ],
   "source": [
    "df.head()"
   ]
  },
  {
   "cell_type": "code",
   "execution_count": 16,
   "metadata": {
    "execution": {
     "iopub.execute_input": "2023-11-08T21:07:12.944575Z",
     "iopub.status.busy": "2023-11-08T21:07:12.944178Z",
     "iopub.status.idle": "2023-11-08T21:07:12.950263Z",
     "shell.execute_reply": "2023-11-08T21:07:12.948772Z",
     "shell.execute_reply.started": "2023-11-08T21:07:12.944543Z"
    }
   },
   "outputs": [],
   "source": [
    "from pycaret.clustering import*"
   ]
  },
  {
   "cell_type": "code",
   "execution_count": 17,
   "metadata": {
    "execution": {
     "iopub.execute_input": "2023-11-08T21:07:13.284561Z",
     "iopub.status.busy": "2023-11-08T21:07:13.284155Z",
     "iopub.status.idle": "2023-11-08T21:07:13.445854Z",
     "shell.execute_reply": "2023-11-08T21:07:13.444638Z",
     "shell.execute_reply.started": "2023-11-08T21:07:13.284529Z"
    }
   },
   "outputs": [
    {
     "data": {
      "text/html": [
       "<style type=\"text/css\">\n",
       "#T_41661_row5_col1 {\n",
       "  background-color: lightgreen;\n",
       "}\n",
       "</style>\n",
       "<table id=\"T_41661\">\n",
       "  <thead>\n",
       "    <tr>\n",
       "      <th class=\"blank level0\" >&nbsp;</th>\n",
       "      <th id=\"T_41661_level0_col0\" class=\"col_heading level0 col0\" >Description</th>\n",
       "      <th id=\"T_41661_level0_col1\" class=\"col_heading level0 col1\" >Value</th>\n",
       "    </tr>\n",
       "  </thead>\n",
       "  <tbody>\n",
       "    <tr>\n",
       "      <th id=\"T_41661_level0_row0\" class=\"row_heading level0 row0\" >0</th>\n",
       "      <td id=\"T_41661_row0_col0\" class=\"data row0 col0\" >Session id</td>\n",
       "      <td id=\"T_41661_row0_col1\" class=\"data row0 col1\" >7651</td>\n",
       "    </tr>\n",
       "    <tr>\n",
       "      <th id=\"T_41661_level0_row1\" class=\"row_heading level0 row1\" >1</th>\n",
       "      <td id=\"T_41661_row1_col0\" class=\"data row1 col0\" >Original data shape</td>\n",
       "      <td id=\"T_41661_row1_col1\" class=\"data row1 col1\" >(150, 5)</td>\n",
       "    </tr>\n",
       "    <tr>\n",
       "      <th id=\"T_41661_level0_row2\" class=\"row_heading level0 row2\" >2</th>\n",
       "      <td id=\"T_41661_row2_col0\" class=\"data row2 col0\" >Transformed data shape</td>\n",
       "      <td id=\"T_41661_row2_col1\" class=\"data row2 col1\" >(150, 7)</td>\n",
       "    </tr>\n",
       "    <tr>\n",
       "      <th id=\"T_41661_level0_row3\" class=\"row_heading level0 row3\" >3</th>\n",
       "      <td id=\"T_41661_row3_col0\" class=\"data row3 col0\" >Numeric features</td>\n",
       "      <td id=\"T_41661_row3_col1\" class=\"data row3 col1\" >4</td>\n",
       "    </tr>\n",
       "    <tr>\n",
       "      <th id=\"T_41661_level0_row4\" class=\"row_heading level0 row4\" >4</th>\n",
       "      <td id=\"T_41661_row4_col0\" class=\"data row4 col0\" >Categorical features</td>\n",
       "      <td id=\"T_41661_row4_col1\" class=\"data row4 col1\" >1</td>\n",
       "    </tr>\n",
       "    <tr>\n",
       "      <th id=\"T_41661_level0_row5\" class=\"row_heading level0 row5\" >5</th>\n",
       "      <td id=\"T_41661_row5_col0\" class=\"data row5 col0\" >Preprocess</td>\n",
       "      <td id=\"T_41661_row5_col1\" class=\"data row5 col1\" >True</td>\n",
       "    </tr>\n",
       "    <tr>\n",
       "      <th id=\"T_41661_level0_row6\" class=\"row_heading level0 row6\" >6</th>\n",
       "      <td id=\"T_41661_row6_col0\" class=\"data row6 col0\" >Imputation type</td>\n",
       "      <td id=\"T_41661_row6_col1\" class=\"data row6 col1\" >simple</td>\n",
       "    </tr>\n",
       "    <tr>\n",
       "      <th id=\"T_41661_level0_row7\" class=\"row_heading level0 row7\" >7</th>\n",
       "      <td id=\"T_41661_row7_col0\" class=\"data row7 col0\" >Numeric imputation</td>\n",
       "      <td id=\"T_41661_row7_col1\" class=\"data row7 col1\" >mean</td>\n",
       "    </tr>\n",
       "    <tr>\n",
       "      <th id=\"T_41661_level0_row8\" class=\"row_heading level0 row8\" >8</th>\n",
       "      <td id=\"T_41661_row8_col0\" class=\"data row8 col0\" >Categorical imputation</td>\n",
       "      <td id=\"T_41661_row8_col1\" class=\"data row8 col1\" >mode</td>\n",
       "    </tr>\n",
       "    <tr>\n",
       "      <th id=\"T_41661_level0_row9\" class=\"row_heading level0 row9\" >9</th>\n",
       "      <td id=\"T_41661_row9_col0\" class=\"data row9 col0\" >Maximum one-hot encoding</td>\n",
       "      <td id=\"T_41661_row9_col1\" class=\"data row9 col1\" >-1</td>\n",
       "    </tr>\n",
       "    <tr>\n",
       "      <th id=\"T_41661_level0_row10\" class=\"row_heading level0 row10\" >10</th>\n",
       "      <td id=\"T_41661_row10_col0\" class=\"data row10 col0\" >Encoding method</td>\n",
       "      <td id=\"T_41661_row10_col1\" class=\"data row10 col1\" >None</td>\n",
       "    </tr>\n",
       "    <tr>\n",
       "      <th id=\"T_41661_level0_row11\" class=\"row_heading level0 row11\" >11</th>\n",
       "      <td id=\"T_41661_row11_col0\" class=\"data row11 col0\" >CPU Jobs</td>\n",
       "      <td id=\"T_41661_row11_col1\" class=\"data row11 col1\" >-1</td>\n",
       "    </tr>\n",
       "    <tr>\n",
       "      <th id=\"T_41661_level0_row12\" class=\"row_heading level0 row12\" >12</th>\n",
       "      <td id=\"T_41661_row12_col0\" class=\"data row12 col0\" >Use GPU</td>\n",
       "      <td id=\"T_41661_row12_col1\" class=\"data row12 col1\" >False</td>\n",
       "    </tr>\n",
       "    <tr>\n",
       "      <th id=\"T_41661_level0_row13\" class=\"row_heading level0 row13\" >13</th>\n",
       "      <td id=\"T_41661_row13_col0\" class=\"data row13 col0\" >Log Experiment</td>\n",
       "      <td id=\"T_41661_row13_col1\" class=\"data row13 col1\" >False</td>\n",
       "    </tr>\n",
       "    <tr>\n",
       "      <th id=\"T_41661_level0_row14\" class=\"row_heading level0 row14\" >14</th>\n",
       "      <td id=\"T_41661_row14_col0\" class=\"data row14 col0\" >Experiment Name</td>\n",
       "      <td id=\"T_41661_row14_col1\" class=\"data row14 col1\" >cluster-default-name</td>\n",
       "    </tr>\n",
       "    <tr>\n",
       "      <th id=\"T_41661_level0_row15\" class=\"row_heading level0 row15\" >15</th>\n",
       "      <td id=\"T_41661_row15_col0\" class=\"data row15 col0\" >USI</td>\n",
       "      <td id=\"T_41661_row15_col1\" class=\"data row15 col1\" >f303</td>\n",
       "    </tr>\n",
       "  </tbody>\n",
       "</table>\n"
      ],
      "text/plain": [
       "<pandas.io.formats.style.Styler at 0x7a631ba5b7f0>"
      ]
     },
     "metadata": {},
     "output_type": "display_data"
    },
    {
     "data": {
      "text/plain": [
       "<pycaret.clustering.oop.ClusteringExperiment at 0x7a631ba59840>"
      ]
     },
     "execution_count": 17,
     "metadata": {},
     "output_type": "execute_result"
    }
   ],
   "source": [
    "setup(df)"
   ]
  },
  {
   "cell_type": "code",
   "execution_count": 21,
   "metadata": {
    "execution": {
     "iopub.execute_input": "2023-11-08T21:08:34.018415Z",
     "iopub.status.busy": "2023-11-08T21:08:34.017988Z",
     "iopub.status.idle": "2023-11-08T21:08:34.581982Z",
     "shell.execute_reply": "2023-11-08T21:08:34.580503Z",
     "shell.execute_reply.started": "2023-11-08T21:08:34.018381Z"
    }
   },
   "outputs": [
    {
     "data": {
      "text/html": [],
      "text/plain": [
       "<IPython.core.display.HTML object>"
      ]
     },
     "metadata": {},
     "output_type": "display_data"
    },
    {
     "data": {
      "text/html": [
       "<style type=\"text/css\">\n",
       "</style>\n",
       "<table id=\"T_aa07e\">\n",
       "  <thead>\n",
       "    <tr>\n",
       "      <th class=\"blank level0\" >&nbsp;</th>\n",
       "      <th id=\"T_aa07e_level0_col0\" class=\"col_heading level0 col0\" >Silhouette</th>\n",
       "      <th id=\"T_aa07e_level0_col1\" class=\"col_heading level0 col1\" >Calinski-Harabasz</th>\n",
       "      <th id=\"T_aa07e_level0_col2\" class=\"col_heading level0 col2\" >Davies-Bouldin</th>\n",
       "      <th id=\"T_aa07e_level0_col3\" class=\"col_heading level0 col3\" >Homogeneity</th>\n",
       "      <th id=\"T_aa07e_level0_col4\" class=\"col_heading level0 col4\" >Rand Index</th>\n",
       "      <th id=\"T_aa07e_level0_col5\" class=\"col_heading level0 col5\" >Completeness</th>\n",
       "    </tr>\n",
       "  </thead>\n",
       "  <tbody>\n",
       "    <tr>\n",
       "      <th id=\"T_aa07e_level0_row0\" class=\"row_heading level0 row0\" >0</th>\n",
       "      <td id=\"T_aa07e_row0_col0\" class=\"data row0 col0\" >0.6223</td>\n",
       "      <td id=\"T_aa07e_row0_col1\" class=\"data row0 col1\" >576.5206</td>\n",
       "      <td id=\"T_aa07e_row0_col2\" class=\"data row0 col2\" >0.5859</td>\n",
       "      <td id=\"T_aa07e_row0_col3\" class=\"data row0 col3\" >0</td>\n",
       "      <td id=\"T_aa07e_row0_col4\" class=\"data row0 col4\" >0</td>\n",
       "      <td id=\"T_aa07e_row0_col5\" class=\"data row0 col5\" >0</td>\n",
       "    </tr>\n",
       "  </tbody>\n",
       "</table>\n"
      ],
      "text/plain": [
       "<pandas.io.formats.style.Styler at 0x7a631ba73b20>"
      ]
     },
     "metadata": {},
     "output_type": "display_data"
    },
    {
     "data": {
      "application/vnd.jupyter.widget-view+json": {
       "model_id": "",
       "version_major": 2,
       "version_minor": 0
      },
      "text/plain": [
       "Processing:   0%|          | 0/3 [00:00<?, ?it/s]"
      ]
     },
     "metadata": {},
     "output_type": "display_data"
    }
   ],
   "source": [
    "kmeans=create_model('kmeans',3)"
   ]
  },
  {
   "cell_type": "code",
   "execution_count": 22,
   "metadata": {
    "execution": {
     "iopub.execute_input": "2023-11-08T21:08:35.008121Z",
     "iopub.status.busy": "2023-11-08T21:08:35.007684Z",
     "iopub.status.idle": "2023-11-08T21:08:35.481233Z",
     "shell.execute_reply": "2023-11-08T21:08:35.479961Z",
     "shell.execute_reply.started": "2023-11-08T21:08:35.008086Z"
    }
   },
   "outputs": [
    {
     "data": {
      "text/html": [],
      "text/plain": [
       "<IPython.core.display.HTML object>"
      ]
     },
     "metadata": {},
     "output_type": "display_data"
    },
    {
     "data": {
      "text/html": [
       "<div>                            <div id=\"8e1dcc2a-01d2-4768-bbac-47f8938e6b5e\" class=\"plotly-graph-div\" style=\"height:600px; width:100%;\"></div>            <script type=\"text/javascript\">                require([\"plotly\"], function(Plotly) {                    window.PLOTLYENV=window.PLOTLYENV || {};                                    if (document.getElementById(\"8e1dcc2a-01d2-4768-bbac-47f8938e6b5e\")) {                    Plotly.newPlot(                        \"8e1dcc2a-01d2-4768-bbac-47f8938e6b5e\",                        [{\"customdata\":[[5.1],[5.2],[5.2],[4.7],[4.8],[5.4],[5.2],[5.5],[4.9],[5.0],[5.5],[5.0],[4.9],[5.1],[5.0],[4.5],[4.4],[5.0],[5.1],[4.8],[5.1],[4.6],[5.0],[4.4],[5.0],[5.3],[5.1],[4.9],[4.7],[4.6],[5.0],[5.4],[4.6],[4.8],[4.4],[4.9],[5.4],[4.8],[5.0],[4.3],[5.8],[5.7],[5.4],[5.1],[5.7],[5.1],[5.4],[5.1],[4.8],[4.6]],\"hovertemplate\":\"Cluster=Cluster 0\\u003cbr\\u003ePCA1=%{x}\\u003cbr\\u003ePCA2=%{y}\\u003cbr\\u003eFeature=%{customdata[0]}\\u003cextra\\u003e\\u003c\\u002fextra\\u003e\",\"legendgroup\":\"Cluster 0\",\"marker\":{\"color\":\"#636efa\",\"opacity\":0.5,\"symbol\":\"circle\"},\"mode\":\"markers\",\"name\":\"Cluster 0\",\"orientation\":\"v\",\"showlegend\":true,\"x\":[-2.7937856992887546,-2.676466461875307,-2.751016553054245,-2.742602641889832,-2.69983331109664,-2.5296694228151035,-2.7599332844040165,-2.7121262838830296,-2.7825656594633266,-2.9693972197669707,-2.7379032657829887,-2.5855518563208713,-2.7825656594633266,-2.7029779179372886,-2.8764112208675927,-2.9520666538481564,-3.0945603541301807,-2.524293269737909,-2.3353902446637185,-2.8223686227061684,-2.65281438139784,-2.9426008155684844,-2.812168290883778,-3.078302644576956,-2.622423863713882,-2.6580837051023,-2.425410043775614,-2.822422037392531,-2.9906394506854403,-2.851793014836321,-2.836554845523268,-2.4049558144774115,-2.924164809287096,-2.4761831748821646,-2.987494863225488,-2.7825656594633266,-2.6234434039540537,-2.724219885116825,-2.7376182190855354,-3.31299443294439,-2.757305299057233,-2.507037047755793,-2.7356715595382246,-2.7590919834541427,-2.327599757230559,-2.7007996018284297,-2.4336989767841577,-2.6579770460773173,-2.891756051790512,-3.305831861794102],\"xaxis\":\"x\",\"y\":[-0.38778976643070073,-0.40756224457078144,-0.3706928725622306,-0.1294349340892175,-0.11233806478764065,-0.42949945676229895,-0.6687332385670743,-0.808879207787918,-0.14155106290964597,-0.24215204218954675,-0.5050223468747789,-0.31226687631822003,-0.14155106290964597,-0.33566337953193004,-0.3738337836322763,0.29714635885237284,-0.07011749966897328,-0.36839774645519585,-0.49477397256792416,-0.08891369556585728,-0.5060264959927752,-0.11729096339424566,-0.27139291584687536,0.018878365329660415,-0.1226421565043622,-0.5239592258128116,-0.2933578633882606,-0.11049818580938899,-0.15232045642454664,-0.06516447040416273,-0.40488666029917125,-0.6367320513230074,-0.2121033237345371,-0.22294640208980648,0.0710047522284303,-0.14155106290964597,-0.5513602113980025,-0.24583191533124782,-0.30826239394673915,0.03683884002681486,-0.8173435420907073,-0.9566816324197275,-0.6672460811034456,-0.3936062617723578,-0.6686205280586744,-0.5194714987795425,-0.40260945205548954,-0.4807901138008145,-0.0772807053159043,-0.32579660798675075],\"yaxis\":\"y\",\"type\":\"scatter\",\"textposition\":\"top center\"},{\"customdata\":[[6.4],[6.5],[7.7],[7.7],[6.0],[6.9],[5.6],[7.7],[5.8],[7.1],[6.8],[6.4],[6.5],[7.2],[6.7],[7.3],[7.6],[6.5],[6.3],[6.3],[5.7],[6.7],[6.3],[6.2],[5.8],[6.5],[6.3],[6.7],[6.7],[6.8],[5.8],[6.9],[6.7],[6.9],[6.0],[6.4],[7.7],[6.1],[6.3],[6.4],[7.9],[7.4],[7.2],[6.4],[6.1],[7.2],[6.3],[5.9],[6.2]],\"hovertemplate\":\"Cluster=Cluster 1\\u003cbr\\u003ePCA1=%{x}\\u003cbr\\u003ePCA2=%{y}\\u003cbr\\u003eFeature=%{customdata[0]}\\u003cextra\\u003e\\u003c\\u002fextra\\u003e\",\"legendgroup\":\"Cluster 1\",\"marker\":{\"color\":\"#EF553B\",\"opacity\":0.5,\"symbol\":\"circle\"},\"mode\":\"markers\",\"name\":\"Cluster 1\",\"orientation\":\"v\",\"showlegend\":true,\"x\":[1.9998298117135862,2.0426169341597973,3.5241917844186803,3.5360928707953514,1.4169703776527067,2.50374683344982,1.320425624562271,3.82178977165589,1.693838951462775,2.6852557729430835,2.2506191244375313,1.9016992332469114,1.7650309215545188,2.975255524238377,2.400578708005562,2.989300008909629,3.4372097020358767,2.429428725533873,2.0641440146538232,1.5016494660334727,1.4621313180542612,2.356949778880318,2.231662076487385,1.3762013169167222,1.5284991915271426,1.8639674688119978,1.635279734295331,2.0373291927634996,2.4957246628978362,2.634464601953878,1.5284991915271426,2.015802277447459,2.3946098551005552,2.194451742795259,1.2906630050670045,1.9998477879252858,3.127842862427815,1.8804749785401405,1.5547971747007063,2.2456880642865475,3.2760485967716373,2.901404825876911,2.463748714081436,2.2109943019240395,1.4079821439195053,2.68223608058735,2.6052003656614087,1.5040592170315203,1.9969701723901372],\"xaxis\":\"x\",\"y\":[-0.579490013020841,-0.4735556627968406,-1.0900750369065322,-0.6334628255879108,-0.0012602967497718422,-0.6859810782001124,-0.19535468511472578,-0.5466594092026305,-0.25816577507440136,-0.624897158877101,-0.5732082319019662,-0.33373442567018313,-0.6046985499926786,-0.9272946214979678,-0.28298249308707885,-0.587237869780243,-0.7085026926271566,-0.47393611620115694,-0.36662731382157626,-0.33103097365704715,-0.08163342789640064,-0.6640438634084193,-0.6240159005228023,-0.3557562352185332,-0.18458541457882563,-0.5080741866428227,-0.24022310651557452,-0.5803256395045517,-0.6873098482419515,-0.6433230595369279,-0.18458541457882563,-0.6872541191380216,-0.600125992319959,-0.6527355952920395,-0.38995012904678505,-0.49065255666531,-0.7856791987607739,-0.1550653835496515,-0.3428223747169161,-0.37279629869532627,-1.1561296413720201,-0.5912143991068374,-0.6308441756392028,-0.366979795553141,-0.4097226162807538,-0.7162160294183564,-0.5548203744719717,-0.33966364840792745,-0.6060552778396652],\"yaxis\":\"y\",\"type\":\"scatter\",\"textposition\":\"top center\"},{\"customdata\":[[6.1],[5.9],[5.6],[6.2],[5.8],[5.6],[6.7],[5.6],[6.1],[6.0],[6.3],[5.9],[5.2],[6.6],[4.9],[6.3],[5.7],[6.5],[5.5],[6.9],[6.4],[7.0],[5.0],[6.1],[5.1],[6.6],[5.7],[5.7],[5.7],[5.6],[5.0],[5.8],[6.1],[4.9],[5.5],[5.5],[5.6],[6.3],[6.7],[6.0],[5.4],[6.0],[5.8],[5.5],[5.5],[5.7],[6.0],[6.7],[6.8],[6.2],[6.4]],\"hovertemplate\":\"Cluster=Cluster 2\\u003cbr\\u003ePCA1=%{x}\\u003cbr\\u003ePCA2=%{y}\\u003cbr\\u003eFeature=%{customdata[0]}\\u003cextra\\u003e\\u003c\\u002fextra\\u003e\",\"legendgroup\":\"Cluster 2\",\"marker\":{\"color\":\"#00cc96\",\"opacity\":0.5,\"symbol\":\"circle\"},\"mode\":\"markers\",\"name\":\"Cluster 2\",\"orientation\":\"v\",\"showlegend\":true,\"x\":[0.38527333096176036,1.1183773633442116,0.08439197632714789,0.9514687661628121,0.26807898865253005,0.6785959752631435,0.9341382144549265,-0.12677294948523007,0.9905904456727548,0.2953250174374831,1.2924384229103665,0.5344801365293097,0.033654018657961624,1.046419557883339,-0.6807287903978966,1.0967432554302374,0.6601065439558563,1.0892955632108114,0.21807562308701064,1.4515072856988511,0.9394610052518612,1.277966931723454,-0.448215197612794,0.9293319094890847,-0.8329200224179492,0.9076267583929454,0.32939079889504347,0.4039407721323374,0.3611182473998219,0.38555818053731583,-0.63795962478269,0.26291645742399494,0.899782762882236,0.6675330392702276,0.48971113386208287,0.20181791353378592,0.2784927881935721,0.8259141076897654,1.2168684485720684,0.8193356469320446,0.6093153729666507,1.3723110411473045,0.17210875525278063,-0.1421710732696197,-0.024798514560986126,-0.25450603367606245,0.8252861901203795,1.5424216430236506,1.3238809804814609,0.6598216749996053,0.7291024424740836],\"xaxis\":\"x\",\"y\":[0.7418902969473273,0.6506461235732053,1.0163935871155236,1.0079863359816186,0.89366911319913,0.8164090262477482,0.46868804189773733,0.8038833402060765,0.7449753400280756,1.0537282531284535,0.8776055050663661,0.711320407404754,1.0195523134245124,0.6061582793010762,1.2127439478614521,0.5005486218767676,0.8896368980779572,0.6664242580144745,1.1287859505676063,0.44621197199242707,0.5082050152511759,0.36487246399265194,1.378591707163748,0.801106311056013,1.0847420877875855,0.5405869069365883,0.8591228682975192,0.822253381103768,0.7835719909246885,0.9386502316875927,1.2298409478212347,0.9189056079761151,0.6928489622231933,0.11688154100301909,1.0316227251703316,1.0397900855689728,0.7975279888840765,0.9400918343501059,0.48575704074302073,0.5229967270431285,0.8712109974181301,0.8802532279755722,0.8667791240799195,1.078851933472539,1.0806639356153782,0.9197971885046171,0.7513028327024392,0.541507459209131,0.605294699887073,0.6928768572463793,0.6380747554177918],\"yaxis\":\"y\",\"type\":\"scatter\",\"textposition\":\"top center\"}],                        {\"template\":{\"data\":{\"histogram2dcontour\":[{\"type\":\"histogram2dcontour\",\"colorbar\":{\"outlinewidth\":0,\"ticks\":\"\"},\"colorscale\":[[0.0,\"#0d0887\"],[0.1111111111111111,\"#46039f\"],[0.2222222222222222,\"#7201a8\"],[0.3333333333333333,\"#9c179e\"],[0.4444444444444444,\"#bd3786\"],[0.5555555555555556,\"#d8576b\"],[0.6666666666666666,\"#ed7953\"],[0.7777777777777778,\"#fb9f3a\"],[0.8888888888888888,\"#fdca26\"],[1.0,\"#f0f921\"]]}],\"choropleth\":[{\"type\":\"choropleth\",\"colorbar\":{\"outlinewidth\":0,\"ticks\":\"\"}}],\"histogram2d\":[{\"type\":\"histogram2d\",\"colorbar\":{\"outlinewidth\":0,\"ticks\":\"\"},\"colorscale\":[[0.0,\"#0d0887\"],[0.1111111111111111,\"#46039f\"],[0.2222222222222222,\"#7201a8\"],[0.3333333333333333,\"#9c179e\"],[0.4444444444444444,\"#bd3786\"],[0.5555555555555556,\"#d8576b\"],[0.6666666666666666,\"#ed7953\"],[0.7777777777777778,\"#fb9f3a\"],[0.8888888888888888,\"#fdca26\"],[1.0,\"#f0f921\"]]}],\"heatmap\":[{\"type\":\"heatmap\",\"colorbar\":{\"outlinewidth\":0,\"ticks\":\"\"},\"colorscale\":[[0.0,\"#0d0887\"],[0.1111111111111111,\"#46039f\"],[0.2222222222222222,\"#7201a8\"],[0.3333333333333333,\"#9c179e\"],[0.4444444444444444,\"#bd3786\"],[0.5555555555555556,\"#d8576b\"],[0.6666666666666666,\"#ed7953\"],[0.7777777777777778,\"#fb9f3a\"],[0.8888888888888888,\"#fdca26\"],[1.0,\"#f0f921\"]]}],\"heatmapgl\":[{\"type\":\"heatmapgl\",\"colorbar\":{\"outlinewidth\":0,\"ticks\":\"\"},\"colorscale\":[[0.0,\"#0d0887\"],[0.1111111111111111,\"#46039f\"],[0.2222222222222222,\"#7201a8\"],[0.3333333333333333,\"#9c179e\"],[0.4444444444444444,\"#bd3786\"],[0.5555555555555556,\"#d8576b\"],[0.6666666666666666,\"#ed7953\"],[0.7777777777777778,\"#fb9f3a\"],[0.8888888888888888,\"#fdca26\"],[1.0,\"#f0f921\"]]}],\"contourcarpet\":[{\"type\":\"contourcarpet\",\"colorbar\":{\"outlinewidth\":0,\"ticks\":\"\"}}],\"contour\":[{\"type\":\"contour\",\"colorbar\":{\"outlinewidth\":0,\"ticks\":\"\"},\"colorscale\":[[0.0,\"#0d0887\"],[0.1111111111111111,\"#46039f\"],[0.2222222222222222,\"#7201a8\"],[0.3333333333333333,\"#9c179e\"],[0.4444444444444444,\"#bd3786\"],[0.5555555555555556,\"#d8576b\"],[0.6666666666666666,\"#ed7953\"],[0.7777777777777778,\"#fb9f3a\"],[0.8888888888888888,\"#fdca26\"],[1.0,\"#f0f921\"]]}],\"surface\":[{\"type\":\"surface\",\"colorbar\":{\"outlinewidth\":0,\"ticks\":\"\"},\"colorscale\":[[0.0,\"#0d0887\"],[0.1111111111111111,\"#46039f\"],[0.2222222222222222,\"#7201a8\"],[0.3333333333333333,\"#9c179e\"],[0.4444444444444444,\"#bd3786\"],[0.5555555555555556,\"#d8576b\"],[0.6666666666666666,\"#ed7953\"],[0.7777777777777778,\"#fb9f3a\"],[0.8888888888888888,\"#fdca26\"],[1.0,\"#f0f921\"]]}],\"mesh3d\":[{\"type\":\"mesh3d\",\"colorbar\":{\"outlinewidth\":0,\"ticks\":\"\"}}],\"scatter\":[{\"fillpattern\":{\"fillmode\":\"overlay\",\"size\":10,\"solidity\":0.2},\"type\":\"scatter\"}],\"parcoords\":[{\"type\":\"parcoords\",\"line\":{\"colorbar\":{\"outlinewidth\":0,\"ticks\":\"\"}}}],\"scatterpolargl\":[{\"type\":\"scatterpolargl\",\"marker\":{\"colorbar\":{\"outlinewidth\":0,\"ticks\":\"\"}}}],\"bar\":[{\"error_x\":{\"color\":\"#2a3f5f\"},\"error_y\":{\"color\":\"#2a3f5f\"},\"marker\":{\"line\":{\"color\":\"#E5ECF6\",\"width\":0.5},\"pattern\":{\"fillmode\":\"overlay\",\"size\":10,\"solidity\":0.2}},\"type\":\"bar\"}],\"scattergeo\":[{\"type\":\"scattergeo\",\"marker\":{\"colorbar\":{\"outlinewidth\":0,\"ticks\":\"\"}}}],\"scatterpolar\":[{\"type\":\"scatterpolar\",\"marker\":{\"colorbar\":{\"outlinewidth\":0,\"ticks\":\"\"}}}],\"histogram\":[{\"marker\":{\"pattern\":{\"fillmode\":\"overlay\",\"size\":10,\"solidity\":0.2}},\"type\":\"histogram\"}],\"scattergl\":[{\"type\":\"scattergl\",\"marker\":{\"colorbar\":{\"outlinewidth\":0,\"ticks\":\"\"}}}],\"scatter3d\":[{\"type\":\"scatter3d\",\"line\":{\"colorbar\":{\"outlinewidth\":0,\"ticks\":\"\"}},\"marker\":{\"colorbar\":{\"outlinewidth\":0,\"ticks\":\"\"}}}],\"scattermapbox\":[{\"type\":\"scattermapbox\",\"marker\":{\"colorbar\":{\"outlinewidth\":0,\"ticks\":\"\"}}}],\"scatterternary\":[{\"type\":\"scatterternary\",\"marker\":{\"colorbar\":{\"outlinewidth\":0,\"ticks\":\"\"}}}],\"scattercarpet\":[{\"type\":\"scattercarpet\",\"marker\":{\"colorbar\":{\"outlinewidth\":0,\"ticks\":\"\"}}}],\"carpet\":[{\"aaxis\":{\"endlinecolor\":\"#2a3f5f\",\"gridcolor\":\"white\",\"linecolor\":\"white\",\"minorgridcolor\":\"white\",\"startlinecolor\":\"#2a3f5f\"},\"baxis\":{\"endlinecolor\":\"#2a3f5f\",\"gridcolor\":\"white\",\"linecolor\":\"white\",\"minorgridcolor\":\"white\",\"startlinecolor\":\"#2a3f5f\"},\"type\":\"carpet\"}],\"table\":[{\"cells\":{\"fill\":{\"color\":\"#EBF0F8\"},\"line\":{\"color\":\"white\"}},\"header\":{\"fill\":{\"color\":\"#C8D4E3\"},\"line\":{\"color\":\"white\"}},\"type\":\"table\"}],\"barpolar\":[{\"marker\":{\"line\":{\"color\":\"#E5ECF6\",\"width\":0.5},\"pattern\":{\"fillmode\":\"overlay\",\"size\":10,\"solidity\":0.2}},\"type\":\"barpolar\"}],\"pie\":[{\"automargin\":true,\"type\":\"pie\"}]},\"layout\":{\"autotypenumbers\":\"strict\",\"colorway\":[\"#636efa\",\"#EF553B\",\"#00cc96\",\"#ab63fa\",\"#FFA15A\",\"#19d3f3\",\"#FF6692\",\"#B6E880\",\"#FF97FF\",\"#FECB52\"],\"font\":{\"color\":\"#2a3f5f\"},\"hovermode\":\"closest\",\"hoverlabel\":{\"align\":\"left\"},\"paper_bgcolor\":\"white\",\"plot_bgcolor\":\"#E5ECF6\",\"polar\":{\"bgcolor\":\"#E5ECF6\",\"angularaxis\":{\"gridcolor\":\"white\",\"linecolor\":\"white\",\"ticks\":\"\"},\"radialaxis\":{\"gridcolor\":\"white\",\"linecolor\":\"white\",\"ticks\":\"\"}},\"ternary\":{\"bgcolor\":\"#E5ECF6\",\"aaxis\":{\"gridcolor\":\"white\",\"linecolor\":\"white\",\"ticks\":\"\"},\"baxis\":{\"gridcolor\":\"white\",\"linecolor\":\"white\",\"ticks\":\"\"},\"caxis\":{\"gridcolor\":\"white\",\"linecolor\":\"white\",\"ticks\":\"\"}},\"coloraxis\":{\"colorbar\":{\"outlinewidth\":0,\"ticks\":\"\"}},\"colorscale\":{\"sequential\":[[0.0,\"#0d0887\"],[0.1111111111111111,\"#46039f\"],[0.2222222222222222,\"#7201a8\"],[0.3333333333333333,\"#9c179e\"],[0.4444444444444444,\"#bd3786\"],[0.5555555555555556,\"#d8576b\"],[0.6666666666666666,\"#ed7953\"],[0.7777777777777778,\"#fb9f3a\"],[0.8888888888888888,\"#fdca26\"],[1.0,\"#f0f921\"]],\"sequentialminus\":[[0.0,\"#0d0887\"],[0.1111111111111111,\"#46039f\"],[0.2222222222222222,\"#7201a8\"],[0.3333333333333333,\"#9c179e\"],[0.4444444444444444,\"#bd3786\"],[0.5555555555555556,\"#d8576b\"],[0.6666666666666666,\"#ed7953\"],[0.7777777777777778,\"#fb9f3a\"],[0.8888888888888888,\"#fdca26\"],[1.0,\"#f0f921\"]],\"diverging\":[[0,\"#8e0152\"],[0.1,\"#c51b7d\"],[0.2,\"#de77ae\"],[0.3,\"#f1b6da\"],[0.4,\"#fde0ef\"],[0.5,\"#f7f7f7\"],[0.6,\"#e6f5d0\"],[0.7,\"#b8e186\"],[0.8,\"#7fbc41\"],[0.9,\"#4d9221\"],[1,\"#276419\"]]},\"xaxis\":{\"gridcolor\":\"white\",\"linecolor\":\"white\",\"ticks\":\"\",\"title\":{\"standoff\":15},\"zerolinecolor\":\"white\",\"automargin\":true,\"zerolinewidth\":2},\"yaxis\":{\"gridcolor\":\"white\",\"linecolor\":\"white\",\"ticks\":\"\",\"title\":{\"standoff\":15},\"zerolinecolor\":\"white\",\"automargin\":true,\"zerolinewidth\":2},\"scene\":{\"xaxis\":{\"backgroundcolor\":\"#E5ECF6\",\"gridcolor\":\"white\",\"linecolor\":\"white\",\"showbackground\":true,\"ticks\":\"\",\"zerolinecolor\":\"white\",\"gridwidth\":2},\"yaxis\":{\"backgroundcolor\":\"#E5ECF6\",\"gridcolor\":\"white\",\"linecolor\":\"white\",\"showbackground\":true,\"ticks\":\"\",\"zerolinecolor\":\"white\",\"gridwidth\":2},\"zaxis\":{\"backgroundcolor\":\"#E5ECF6\",\"gridcolor\":\"white\",\"linecolor\":\"white\",\"showbackground\":true,\"ticks\":\"\",\"zerolinecolor\":\"white\",\"gridwidth\":2}},\"shapedefaults\":{\"line\":{\"color\":\"#2a3f5f\"}},\"annotationdefaults\":{\"arrowcolor\":\"#2a3f5f\",\"arrowhead\":0,\"arrowwidth\":1},\"geo\":{\"bgcolor\":\"white\",\"landcolor\":\"#E5ECF6\",\"subunitcolor\":\"white\",\"showland\":true,\"showlakes\":true,\"lakecolor\":\"white\"},\"title\":{\"x\":0.05},\"mapbox\":{\"style\":\"light\"}}},\"xaxis\":{\"anchor\":\"y\",\"domain\":[0.0,1.0],\"title\":{\"text\":\"PCA1\"}},\"yaxis\":{\"anchor\":\"x\",\"domain\":[0.0,1.0],\"title\":{\"text\":\"PCA2\"}},\"legend\":{\"title\":{\"text\":\"Cluster\"},\"tracegroupgap\":0},\"margin\":{\"t\":60},\"plot_bgcolor\":\"rgb(240,240,240)\",\"title\":{\"text\":\"2D Cluster PCA Plot\"},\"height\":600},                        {\"responsive\": true}                    ).then(function(){\n",
       "                            \n",
       "var gd = document.getElementById('8e1dcc2a-01d2-4768-bbac-47f8938e6b5e');\n",
       "var x = new MutationObserver(function (mutations, observer) {{\n",
       "        var display = window.getComputedStyle(gd).display;\n",
       "        if (!display || display === 'none') {{\n",
       "            console.log([gd, 'removed!']);\n",
       "            Plotly.purge(gd);\n",
       "            observer.disconnect();\n",
       "        }}\n",
       "}});\n",
       "\n",
       "// Listen for the removal of the full notebook cells\n",
       "var notebookContainer = gd.closest('#notebook-container');\n",
       "if (notebookContainer) {{\n",
       "    x.observe(notebookContainer, {childList: true});\n",
       "}}\n",
       "\n",
       "// Listen for the clearing of the current output cell\n",
       "var outputEl = gd.closest('.output');\n",
       "if (outputEl) {{\n",
       "    x.observe(outputEl, {childList: true});\n",
       "}}\n",
       "\n",
       "                        })                };                });            </script>        </div>"
      ]
     },
     "metadata": {},
     "output_type": "display_data"
    }
   ],
   "source": [
    "plot_model(kmeans)"
   ]
  },
  {
   "cell_type": "code",
   "execution_count": 23,
   "metadata": {
    "execution": {
     "iopub.execute_input": "2023-11-08T21:08:39.321389Z",
     "iopub.status.busy": "2023-11-08T21:08:39.321002Z",
     "iopub.status.idle": "2023-11-08T21:08:40.493640Z",
     "shell.execute_reply": "2023-11-08T21:08:40.492191Z",
     "shell.execute_reply.started": "2023-11-08T21:08:39.321359Z"
    }
   },
   "outputs": [
    {
     "data": {
      "text/html": [],
      "text/plain": [
       "<IPython.core.display.HTML object>"
      ]
     },
     "metadata": {},
     "output_type": "display_data"
    },
    {
     "data": {
      "image/png": "[encoded data removed]",
      "text/plain": [
       "<Figure size 800x550 with 1 Axes>"
      ]
     },
     "metadata": {},
     "output_type": "display_data"
    }
   ],
   "source": [
    "plot_model(kmeans,plot='elbow')"
   ]
  },
  {
   "cell_type": "code",
   "execution_count": 24,
   "metadata": {
    "execution": {
     "iopub.execute_input": "2023-11-08T21:08:54.962555Z",
     "iopub.status.busy": "2023-11-08T21:08:54.962095Z",
     "iopub.status.idle": "2023-11-08T21:08:56.984150Z",
     "shell.execute_reply": "2023-11-08T21:08:56.982838Z",
     "shell.execute_reply.started": "2023-11-08T21:08:54.962510Z"
    }
   },
   "outputs": [
    {
     "data": {
      "text/html": [],
      "text/plain": [
       "<IPython.core.display.HTML object>"
      ]
     },
     "metadata": {},
     "output_type": "display_data"
    },
    {
     "data": {
      "text/html": [
       "<div>                            <div id=\"75e2a551-a115-466f-8d92-9da8f889a520\" class=\"plotly-graph-div\" style=\"height:800px; width:900px;\"></div>            <script type=\"text/javascript\">                require([\"plotly\"], function(Plotly) {                    window.PLOTLYENV=window.PLOTLYENV || {};                                    if (document.getElementById(\"75e2a551-a115-466f-8d92-9da8f889a520\")) {                    Plotly.newPlot(                        \"75e2a551-a115-466f-8d92-9da8f889a520\",                        [{\"customdata\":[[5.1],[5.2],[5.2],[4.7],[4.8],[5.4],[5.2],[5.5],[4.9],[5.0],[5.5],[5.0],[4.9],[5.1],[5.0],[4.5],[4.4],[5.0],[5.1],[4.8],[5.1],[4.6],[5.0],[4.4],[5.0],[5.3],[5.1],[4.9],[4.7],[4.6],[5.0],[5.4],[4.6],[4.8],[4.4],[4.9],[5.4],[4.8],[5.0],[4.3],[5.8],[5.7],[5.4],[5.1],[5.7],[5.1],[5.4],[5.1],[4.8],[4.6]],\"hovertemplate\":\"Cluster=Cluster 0\\u003cbr\\u003e0=%{x}\\u003cbr\\u003e1=%{y}\\u003cbr\\u003e2=%{z}\\u003cbr\\u003eFeature=%{customdata[0]}\\u003cextra\\u003e\\u003c\\u002fextra\\u003e\",\"legendgroup\":\"Cluster 0\",\"marker\":{\"color\":\"#636efa\",\"opacity\":0.7,\"symbol\":\"circle\"},\"mode\":\"markers\",\"name\":\"Cluster 0\",\"scene\":\"scene\",\"showlegend\":true,\"x\":[-69.2754,-62.756775,-24.147764,-57.20786,-35.5782,-38.184284,-38.377426,-22.317583,-45.73215,-47.64541,-21.091263,-56.36416,-45.73215,-33.71661,-60.74741,-33.4545,-79.673744,-67.36048,-72.3003,-43.09271,-58.616932,-57.659615,-34.92145,-60.83664,-22.212559,-51.673313,-44.643894,-25.683226,-63.986317,-79.11095,-52.533234,-49.31542,-75.765,-47.744095,-43.761635,-45.73215,-32.294773,-66.88005,-29.247541,-67.28838,-13.303979,-30.571388,-14.347157,-46.789078,-40.764465,-36.977333,-52.084816,66.13572,-31.364727,-85.3617],\"y\":[32.028286,17.32311,24.084452,-27.387678,-24.064468,11.928107,67.790474,66.33928,-0.42346588,29.97022,21.430529,2.1766891,-0.42346588,5.3440948,21.749556,9.4143,-3.7141426,-9.18078,45.350574,12.03664,54.993683,-13.038846,22.47018,3.60239,-6.7117004,36.02884,-11.024707,13.0754385,10.857671,7.7554,43.545986,55.92357,-13.840668,-25.068773,-14.526913,-0.42346588,39.31506,-12.069109,72.823845,-20.506,45.426903,60.105385,50.366966,24.989187,36.86397,48.13299,14.862672,-34.931507,-7.8580794,-29.91658],\"z\":[7.9047537,24.256989,11.46202,-23.77485,-27.963598,28.940845,25.223356,41.59733,-23.124647,-30.887728,40.04272,7.181693,-23.124647,4.3746185,-9.310797,-72.19587,-51.224575,24.284931,38.51599,-48.2556,17.066057,-43.59575,-12.375901,-64.78783,-16.508121,28.929495,21.559238,-33.787624,-39.855095,-23.930565,-6.219777,43.422035,-28.664581,-0.78494793,-64.76401,-23.124647,33.365147,-6.754362,-0.32203728,-65.99399,51.293022,62.134453,25.241213,8.21719,56.35405,10.858933,46.327797,8.39701,-44.30682,-42.737896],\"type\":\"scatter3d\"},{\"customdata\":[[6.4],[6.5],[7.7],[7.7],[6.0],[6.9],[5.6],[7.7],[5.8],[7.1],[6.8],[6.4],[6.5],[7.2],[6.7],[7.3],[7.6],[6.5],[6.3],[6.3],[5.7],[6.7],[6.3],[6.2],[5.8],[6.5],[6.3],[6.7],[6.7],[6.8],[5.8],[6.9],[6.7],[6.9],[6.0],[6.4],[7.7],[6.1],[6.3],[6.4],[7.9],[7.4],[7.2],[6.4],[6.1],[7.2],[6.3],[5.9],[6.2]],\"hovertemplate\":\"Cluster=Cluster 1\\u003cbr\\u003e0=%{x}\\u003cbr\\u003e1=%{y}\\u003cbr\\u003e2=%{z}\\u003cbr\\u003eFeature=%{customdata[0]}\\u003cextra\\u003e\\u003c\\u002fextra\\u003e\",\"legendgroup\":\"Cluster 1\",\"marker\":{\"color\":\"#EF553B\",\"opacity\":0.7,\"symbol\":\"circle\"},\"mode\":\"markers\",\"name\":\"Cluster 1\",\"scene\":\"scene\",\"showlegend\":true,\"x\":[44.13033,-132.85716,25.219078,61.897068,22.207798,21.37176,7.309959,39.51781,5.2970448,45.200726,38.063442,29.72495,42.18526,71.87599,26.43323,46.982296,51.026825,59.94221,14.966802,42.32979,15.017704,55.121746,67.30372,37.547638,14.9440365,23.40605,14.631744,23.24391,73.490875,62.887245,14.9440365,35.686775,51.72652,32.85877,32.782906,55.67654,62.846077,60.988064,38.442493,38.811855,40.99166,41.730354,33.68943,47.525505,49.700645,24.605457,81.887764,25.592888,64.74563],\"y\":[0.7396996,116.90916,78.22857,84.907936,18.411074,44.640938,-19.060835,93.67816,-3.6540408,54.40147,34.04886,19.952972,-9.836917,61.40871,45.601616,78.09313,83.136986,22.329994,24.290516,2.8453293,-6.4750857,41.667892,4.1986337,1.751002,3.2082849,1.0895046,28.385944,15.721637,29.240482,42.250072,3.2082849,10.434243,22.296516,33.25272,-18.333134,9.198643,63.049194,21.265434,24.438574,17.676014,65.50159,66.47909,64.65539,33.40421,-16.019365,69.448,17.101097,-16.392984,-4.7710886],\"z\":[1.383494,58.694603,-29.402506,-9.182448,-75.64601,7.0236583,-54.11176,-11.212966,-33.70852,5.317237,-1.8961508,-35.8928,-19.533031,7.2674866,-22.91431,7.277111,-28.338821,-10.61004,-20.442747,-67.59407,-75.642586,23.196875,11.642847,-46.728535,-54.706654,-14.426532,-52.284264,5.1201644,14.295179,-2.7946122,-54.706654,22.875254,10.881703,22.554283,-60.36955,-30.117434,-20.571028,-52.736313,-57.41073,-15.41774,-40.50269,-12.448705,22.829351,-27.394777,-45.27478,1.9221935,-5.2914925,-38.42467,-9.327941],\"type\":\"scatter3d\"},{\"customdata\":[[6.1],[5.9],[5.6],[6.2],[5.8],[5.6],[6.7],[5.6],[6.1],[6.0],[6.3],[5.9],[5.2],[6.6],[4.9],[6.3],[5.7],[6.5],[5.5],[6.9],[6.4],[7.0],[5.0],[6.1],[5.1],[6.6],[5.7],[5.7],[5.7],[5.6],[5.0],[5.8],[6.1],[4.9],[5.5],[5.5],[5.6],[6.3],[6.7],[6.0],[5.4],[6.0],[5.8],[5.5],[5.5],[5.7],[6.0],[6.7],[6.8],[6.2],[6.4]],\"hovertemplate\":\"Cluster=Cluster 2\\u003cbr\\u003e0=%{x}\\u003cbr\\u003e1=%{y}\\u003cbr\\u003e2=%{z}\\u003cbr\\u003eFeature=%{customdata[0]}\\u003cextra\\u003e\\u003c\\u002fextra\\u003e\",\"legendgroup\":\"Cluster 2\",\"marker\":{\"color\":\"#00cc96\",\"opacity\":0.7,\"symbol\":\"circle\"},\"mode\":\"markers\",\"name\":\"Cluster 2\",\"scene\":\"scene\",\"showlegend\":true,\"x\":[7.568427,-25.239439,-4.8666153,41.402363,6.6707864,-20.7354,30.30954,-14.811545,1.7936097,33.551865,14.435675,-15.490856,2.3725474,42.240185,27.672478,-12.006546,2.9070318,32.966232,23.671684,16.103886,5.4152403,7.5896473,39.965588,16.69303,9.219063,18.109993,-5.622933,14.519515,-26.338875,4.7559924,27.045547,-64.44979,4.8997893,8.734493,-23.249388,0.048843898,-19.088146,33.98791,25.188776,-17.381893,-15.8937,-8.225631,8.681288,20.797396,12.321533,0.74726874,-6.1074696,2.4193811,33.021236,-7.6470623,28.216187],\"y\":[-28.309183,-28.46703,-49.596474,-44.816452,-23.74621,-57.71557,2.502303,-75.03039,-26.092356,-45.992332,-11.252053,-33.076084,-88.93238,-17.953056,-89.355255,-16.909288,-62.86298,-19.961437,-70.057106,16.028946,-31.508661,-1.967033,-68.83198,-37.516766,-87.56126,-15.07483,-53.017555,-54.040165,-55.520756,-75.543846,-72.186195,89.7813,-47.516376,-30.485445,-53.022377,-65.60603,-74.66059,-29.262968,-19.980806,-42.11182,-77.40026,-10.708072,-43.284737,-50.353573,-69.60726,-61.833256,-40.655228,3.3436465,1.599112,42.872574,-38.725616],\"z\":[13.691256,51.51547,-19.409254,34.982445,106.380905,46.640003,56.177933,-20.522179,52.00753,0.41236338,35.94573,20.658966,-4.2049627,67.90217,-23.065989,70.10894,39.320606,47.721016,1.3370265,72.095345,76.59673,83.34187,-21.377377,41.56846,-37.493332,64.36055,14.617118,21.236734,23.442894,18.828035,-40.779606,-4.7466383,58.811363,-73.81953,-1.6698427,-2.4453115,11.286382,23.785334,84.77911,68.64778,36.180748,38.428593,-2.8353138,-24.564884,-19.042147,-38.87058,39.38655,59.15832,79.82333,-8.264035,63.79091],\"type\":\"scatter3d\"}],                        {\"template\":{\"data\":{\"histogram2dcontour\":[{\"type\":\"histogram2dcontour\",\"colorbar\":{\"outlinewidth\":0,\"ticks\":\"\"},\"colorscale\":[[0.0,\"#0d0887\"],[0.1111111111111111,\"#46039f\"],[0.2222222222222222,\"#7201a8\"],[0.3333333333333333,\"#9c179e\"],[0.4444444444444444,\"#bd3786\"],[0.5555555555555556,\"#d8576b\"],[0.6666666666666666,\"#ed7953\"],[0.7777777777777778,\"#fb9f3a\"],[0.8888888888888888,\"#fdca26\"],[1.0,\"#f0f921\"]]}],\"choropleth\":[{\"type\":\"choropleth\",\"colorbar\":{\"outlinewidth\":0,\"ticks\":\"\"}}],\"histogram2d\":[{\"type\":\"histogram2d\",\"colorbar\":{\"outlinewidth\":0,\"ticks\":\"\"},\"colorscale\":[[0.0,\"#0d0887\"],[0.1111111111111111,\"#46039f\"],[0.2222222222222222,\"#7201a8\"],[0.3333333333333333,\"#9c179e\"],[0.4444444444444444,\"#bd3786\"],[0.5555555555555556,\"#d8576b\"],[0.6666666666666666,\"#ed7953\"],[0.7777777777777778,\"#fb9f3a\"],[0.8888888888888888,\"#fdca26\"],[1.0,\"#f0f921\"]]}],\"heatmap\":[{\"type\":\"heatmap\",\"colorbar\":{\"outlinewidth\":0,\"ticks\":\"\"},\"colorscale\":[[0.0,\"#0d0887\"],[0.1111111111111111,\"#46039f\"],[0.2222222222222222,\"#7201a8\"],[0.3333333333333333,\"#9c179e\"],[0.4444444444444444,\"#bd3786\"],[0.5555555555555556,\"#d8576b\"],[0.6666666666666666,\"#ed7953\"],[0.7777777777777778,\"#fb9f3a\"],[0.8888888888888888,\"#fdca26\"],[1.0,\"#f0f921\"]]}],\"heatmapgl\":[{\"type\":\"heatmapgl\",\"colorbar\":{\"outlinewidth\":0,\"ticks\":\"\"},\"colorscale\":[[0.0,\"#0d0887\"],[0.1111111111111111,\"#46039f\"],[0.2222222222222222,\"#7201a8\"],[0.3333333333333333,\"#9c179e\"],[0.4444444444444444,\"#bd3786\"],[0.5555555555555556,\"#d8576b\"],[0.6666666666666666,\"#ed7953\"],[0.7777777777777778,\"#fb9f3a\"],[0.8888888888888888,\"#fdca26\"],[1.0,\"#f0f921\"]]}],\"contourcarpet\":[{\"type\":\"contourcarpet\",\"colorbar\":{\"outlinewidth\":0,\"ticks\":\"\"}}],\"contour\":[{\"type\":\"contour\",\"colorbar\":{\"outlinewidth\":0,\"ticks\":\"\"},\"colorscale\":[[0.0,\"#0d0887\"],[0.1111111111111111,\"#46039f\"],[0.2222222222222222,\"#7201a8\"],[0.3333333333333333,\"#9c179e\"],[0.4444444444444444,\"#bd3786\"],[0.5555555555555556,\"#d8576b\"],[0.6666666666666666,\"#ed7953\"],[0.7777777777777778,\"#fb9f3a\"],[0.8888888888888888,\"#fdca26\"],[1.0,\"#f0f921\"]]}],\"surface\":[{\"type\":\"surface\",\"colorbar\":{\"outlinewidth\":0,\"ticks\":\"\"},\"colorscale\":[[0.0,\"#0d0887\"],[0.1111111111111111,\"#46039f\"],[0.2222222222222222,\"#7201a8\"],[0.3333333333333333,\"#9c179e\"],[0.4444444444444444,\"#bd3786\"],[0.5555555555555556,\"#d8576b\"],[0.6666666666666666,\"#ed7953\"],[0.7777777777777778,\"#fb9f3a\"],[0.8888888888888888,\"#fdca26\"],[1.0,\"#f0f921\"]]}],\"mesh3d\":[{\"type\":\"mesh3d\",\"colorbar\":{\"outlinewidth\":0,\"ticks\":\"\"}}],\"scatter\":[{\"fillpattern\":{\"fillmode\":\"overlay\",\"size\":10,\"solidity\":0.2},\"type\":\"scatter\"}],\"parcoords\":[{\"type\":\"parcoords\",\"line\":{\"colorbar\":{\"outlinewidth\":0,\"ticks\":\"\"}}}],\"scatterpolargl\":[{\"type\":\"scatterpolargl\",\"marker\":{\"colorbar\":{\"outlinewidth\":0,\"ticks\":\"\"}}}],\"bar\":[{\"error_x\":{\"color\":\"#2a3f5f\"},\"error_y\":{\"color\":\"#2a3f5f\"},\"marker\":{\"line\":{\"color\":\"#E5ECF6\",\"width\":0.5},\"pattern\":{\"fillmode\":\"overlay\",\"size\":10,\"solidity\":0.2}},\"type\":\"bar\"}],\"scattergeo\":[{\"type\":\"scattergeo\",\"marker\":{\"colorbar\":{\"outlinewidth\":0,\"ticks\":\"\"}}}],\"scatterpolar\":[{\"type\":\"scatterpolar\",\"marker\":{\"colorbar\":{\"outlinewidth\":0,\"ticks\":\"\"}}}],\"histogram\":[{\"marker\":{\"pattern\":{\"fillmode\":\"overlay\",\"size\":10,\"solidity\":0.2}},\"type\":\"histogram\"}],\"scattergl\":[{\"type\":\"scattergl\",\"marker\":{\"colorbar\":{\"outlinewidth\":0,\"ticks\":\"\"}}}],\"scatter3d\":[{\"type\":\"scatter3d\",\"line\":{\"colorbar\":{\"outlinewidth\":0,\"ticks\":\"\"}},\"marker\":{\"colorbar\":{\"outlinewidth\":0,\"ticks\":\"\"}}}],\"scattermapbox\":[{\"type\":\"scattermapbox\",\"marker\":{\"colorbar\":{\"outlinewidth\":0,\"ticks\":\"\"}}}],\"scatterternary\":[{\"type\":\"scatterternary\",\"marker\":{\"colorbar\":{\"outlinewidth\":0,\"ticks\":\"\"}}}],\"scattercarpet\":[{\"type\":\"scattercarpet\",\"marker\":{\"colorbar\":{\"outlinewidth\":0,\"ticks\":\"\"}}}],\"carpet\":[{\"aaxis\":{\"endlinecolor\":\"#2a3f5f\",\"gridcolor\":\"white\",\"linecolor\":\"white\",\"minorgridcolor\":\"white\",\"startlinecolor\":\"#2a3f5f\"},\"baxis\":{\"endlinecolor\":\"#2a3f5f\",\"gridcolor\":\"white\",\"linecolor\":\"white\",\"minorgridcolor\":\"white\",\"startlinecolor\":\"#2a3f5f\"},\"type\":\"carpet\"}],\"table\":[{\"cells\":{\"fill\":{\"color\":\"#EBF0F8\"},\"line\":{\"color\":\"white\"}},\"header\":{\"fill\":{\"color\":\"#C8D4E3\"},\"line\":{\"color\":\"white\"}},\"type\":\"table\"}],\"barpolar\":[{\"marker\":{\"line\":{\"color\":\"#E5ECF6\",\"width\":0.5},\"pattern\":{\"fillmode\":\"overlay\",\"size\":10,\"solidity\":0.2}},\"type\":\"barpolar\"}],\"pie\":[{\"automargin\":true,\"type\":\"pie\"}]},\"layout\":{\"autotypenumbers\":\"strict\",\"colorway\":[\"#636efa\",\"#EF553B\",\"#00cc96\",\"#ab63fa\",\"#FFA15A\",\"#19d3f3\",\"#FF6692\",\"#B6E880\",\"#FF97FF\",\"#FECB52\"],\"font\":{\"color\":\"#2a3f5f\"},\"hovermode\":\"closest\",\"hoverlabel\":{\"align\":\"left\"},\"paper_bgcolor\":\"white\",\"plot_bgcolor\":\"#E5ECF6\",\"polar\":{\"bgcolor\":\"#E5ECF6\",\"angularaxis\":{\"gridcolor\":\"white\",\"linecolor\":\"white\",\"ticks\":\"\"},\"radialaxis\":{\"gridcolor\":\"white\",\"linecolor\":\"white\",\"ticks\":\"\"}},\"ternary\":{\"bgcolor\":\"#E5ECF6\",\"aaxis\":{\"gridcolor\":\"white\",\"linecolor\":\"white\",\"ticks\":\"\"},\"baxis\":{\"gridcolor\":\"white\",\"linecolor\":\"white\",\"ticks\":\"\"},\"caxis\":{\"gridcolor\":\"white\",\"linecolor\":\"white\",\"ticks\":\"\"}},\"coloraxis\":{\"colorbar\":{\"outlinewidth\":0,\"ticks\":\"\"}},\"colorscale\":{\"sequential\":[[0.0,\"#0d0887\"],[0.1111111111111111,\"#46039f\"],[0.2222222222222222,\"#7201a8\"],[0.3333333333333333,\"#9c179e\"],[0.4444444444444444,\"#bd3786\"],[0.5555555555555556,\"#d8576b\"],[0.6666666666666666,\"#ed7953\"],[0.7777777777777778,\"#fb9f3a\"],[0.8888888888888888,\"#fdca26\"],[1.0,\"#f0f921\"]],\"sequentialminus\":[[0.0,\"#0d0887\"],[0.1111111111111111,\"#46039f\"],[0.2222222222222222,\"#7201a8\"],[0.3333333333333333,\"#9c179e\"],[0.4444444444444444,\"#bd3786\"],[0.5555555555555556,\"#d8576b\"],[0.6666666666666666,\"#ed7953\"],[0.7777777777777778,\"#fb9f3a\"],[0.8888888888888888,\"#fdca26\"],[1.0,\"#f0f921\"]],\"diverging\":[[0,\"#8e0152\"],[0.1,\"#c51b7d\"],[0.2,\"#de77ae\"],[0.3,\"#f1b6da\"],[0.4,\"#fde0ef\"],[0.5,\"#f7f7f7\"],[0.6,\"#e6f5d0\"],[0.7,\"#b8e186\"],[0.8,\"#7fbc41\"],[0.9,\"#4d9221\"],[1,\"#276419\"]]},\"xaxis\":{\"gridcolor\":\"white\",\"linecolor\":\"white\",\"ticks\":\"\",\"title\":{\"standoff\":15},\"zerolinecolor\":\"white\",\"automargin\":true,\"zerolinewidth\":2},\"yaxis\":{\"gridcolor\":\"white\",\"linecolor\":\"white\",\"ticks\":\"\",\"title\":{\"standoff\":15},\"zerolinecolor\":\"white\",\"automargin\":true,\"zerolinewidth\":2},\"scene\":{\"xaxis\":{\"backgroundcolor\":\"#E5ECF6\",\"gridcolor\":\"white\",\"linecolor\":\"white\",\"showbackground\":true,\"ticks\":\"\",\"zerolinecolor\":\"white\",\"gridwidth\":2},\"yaxis\":{\"backgroundcolor\":\"#E5ECF6\",\"gridcolor\":\"white\",\"linecolor\":\"white\",\"showbackground\":true,\"ticks\":\"\",\"zerolinecolor\":\"white\",\"gridwidth\":2},\"zaxis\":{\"backgroundcolor\":\"#E5ECF6\",\"gridcolor\":\"white\",\"linecolor\":\"white\",\"showbackground\":true,\"ticks\":\"\",\"zerolinecolor\":\"white\",\"gridwidth\":2}},\"shapedefaults\":{\"line\":{\"color\":\"#2a3f5f\"}},\"annotationdefaults\":{\"arrowcolor\":\"#2a3f5f\",\"arrowhead\":0,\"arrowwidth\":1},\"geo\":{\"bgcolor\":\"white\",\"landcolor\":\"#E5ECF6\",\"subunitcolor\":\"white\",\"showland\":true,\"showlakes\":true,\"lakecolor\":\"white\"},\"title\":{\"x\":0.05},\"mapbox\":{\"style\":\"light\"}}},\"scene\":{\"domain\":{\"x\":[0.0,1.0],\"y\":[0.0,1.0]},\"xaxis\":{\"title\":{\"text\":\"0\"}},\"yaxis\":{\"title\":{\"text\":\"1\"}},\"zaxis\":{\"title\":{\"text\":\"2\"}}},\"legend\":{\"title\":{\"text\":\"Cluster\"},\"tracegroupgap\":0},\"title\":{\"text\":\"3d TSNE Plot for Clusters\"},\"height\":800,\"width\":900},                        {\"responsive\": true}                    ).then(function(){\n",
       "                            \n",
       "var gd = document.getElementById('75e2a551-a115-466f-8d92-9da8f889a520');\n",
       "var x = new MutationObserver(function (mutations, observer) {{\n",
       "        var display = window.getComputedStyle(gd).display;\n",
       "        if (!display || display === 'none') {{\n",
       "            console.log([gd, 'removed!']);\n",
       "            Plotly.purge(gd);\n",
       "            observer.disconnect();\n",
       "        }}\n",
       "}});\n",
       "\n",
       "// Listen for the removal of the full notebook cells\n",
       "var notebookContainer = gd.closest('#notebook-container');\n",
       "if (notebookContainer) {{\n",
       "    x.observe(notebookContainer, {childList: true});\n",
       "}}\n",
       "\n",
       "// Listen for the clearing of the current output cell\n",
       "var outputEl = gd.closest('.output');\n",
       "if (outputEl) {{\n",
       "    x.observe(outputEl, {childList: true});\n",
       "}}\n",
       "\n",
       "                        })                };                });            </script>        </div>"
      ]
     },
     "metadata": {},
     "output_type": "display_data"
    }
   ],
   "source": [
    "plot_model(kmeans,plot='tsne')"
   ]
  },
  {
   "cell_type": "code",
   "execution_count": null,
   "metadata": {},
   "outputs": [],
   "source": []
  }
 ],
 "metadata": {
  "kernelspec": {
   "display_name": "Python 3 (ipykernel)",
   "language": "python",
   "name": "python3"
  },
  "language_info": {
   "codemirror_mode": {
    "name": "ipython",
    "version": 3
   },
   "file_extension": ".py",
   "mimetype": "text/x-python",
   "name": "python",
   "nbconvert_exporter": "python",
   "pygments_lexer": "ipython3",
   "version": "3.11.3"
  }
 },
 "nbformat": 4,
 "nbformat_minor": 4
}
